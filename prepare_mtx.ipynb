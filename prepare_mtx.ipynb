{
 "cells": [
  {
   "cell_type": "markdown",
   "metadata": {},
   "source": [
    "In this example, we utilize the 10x Genomics Multiome data provided by the NeurIPS 2021 Multimodal Single-Cell Data Integration competition. This data can be downloaded from NCBI GEO with the accession number [GSE194122](https://www.ncbi.nlm.nih.gov/geo/query/acc.cgi?acc=GSE194122).\n",
    "\n",
    "To run this example, users need to ensure that pandas, numpy, scikit-learn, and datatable are installed in the runtime environment. Datatable, in particular, supports rapid reading and writing of large-scale files.\n",
    "\n",
    "Please download the h5ad file before running the code below.\n",
    "```bash\n",
    "wget -O - \"https://ftp.ncbi.nlm.nih.gov/geo/series/GSE194nnn/GSE194122/suppl/GSE194122%5Fopenproblems%5Fneurips2021%5Fmultiome%5FBMMC%5Fprocessed.h5ad.gz\" | pigz -d > GSE194122_openproblems_neurips2021_multiome_BMMC_processed.h5ad\n",
    "```"
   ]
  },
  {
   "cell_type": "code",
   "execution_count": 6,
   "metadata": {},
   "outputs": [],
   "source": [
    "import pandas as pd\n",
    "import numpy as np\n",
    "import scanpy as sc\n",
    "\n",
    "import datatable as dt\n",
    "\n",
    "from sklearn.preprocessing import OneHotEncoder\n"
   ]
  },
  {
   "cell_type": "code",
   "execution_count": 7,
   "metadata": {},
   "outputs": [],
   "source": [
    "adata = sc.read_h5ad('GSE194122_openproblems_neurips2021_multiome_BMMC_processed.h5ad')"
   ]
  },
  {
   "cell_type": "markdown",
   "metadata": {},
   "source": [
    "### Solely use the transcriptomic data"
   ]
  },
  {
   "cell_type": "code",
   "execution_count": 10,
   "metadata": {},
   "outputs": [],
   "source": [
    "genes=adata.var_names[adata.var['feature_types']=='GEX']\n",
    "adata_gex=adata[:,genes].copy()\n",
    "adata_gex.X = adata_gex.layers['counts'].copy()"
   ]
  },
  {
   "cell_type": "code",
   "execution_count": 14,
   "metadata": {},
   "outputs": [
    {
     "name": "stdout",
     "output_type": "stream",
     "text": [
      "WARNING: Could not find spliced / unspliced counts.\n",
      "Normalized count data: X.\n",
      "Extracted 2000 highly variable genes.\n",
      "Logarithmized X.\n"
     ]
    },
    {
     "name": "stderr",
     "output_type": "stream",
     "text": [
      "/home/fzeng/anaconda3/envs/pyro/lib/python3.9/site-packages/scvelo/preprocessing/utils.py:705: DeprecationWarning: `log1p` is deprecated since scVelo v0.3.0 and will be removed in a future version. Please use `log1p` from `scanpy.pp` instead.\n",
      "  log1p(adata)\n"
     ]
    }
   ],
   "source": [
    "sc.pp.normalize_total(adata_gex, target_sum=1e4)\n",
    "sc.pp.log1p(adata_gex)\n",
    "sc.pp.highly_variable_genes(adata_gex, n_top_genes=2000, batch_key='batch', subset=True)"
   ]
  },
  {
   "cell_type": "code",
   "execution_count": 16,
   "metadata": {},
   "outputs": [],
   "source": [
    "dt.Frame(pd.DataFrame(adata_gex.layers['counts'].toarray(), columns=adata_gex.var_names)).to_csv('multiome_neurips21_counts.txt')\n",
    "\n",
    "\n",
    "adata_gex.obs_names.to_frame().to_csv('multiome_neurips21_cell.csv', index=None)\n",
    "adata_gex.var_names.to_frame().to_csv('multiome_neurips21_gene.csv', index=None)"
   ]
  },
  {
   "cell_type": "code",
   "execution_count": 12,
   "metadata": {},
   "outputs": [],
   "source": [
    "enc = OneHotEncoder(sparse=False).fit(adata_gex.obs['batch'].to_numpy().reshape(-1,1))\n",
    "pd.DataFrame(enc.transform(adata_gex.obs['batch'].to_numpy().reshape(-1,1)), columns=enc.categories_).to_csv('multiome_neurips21_uwv.txt', index=False)"
   ]
  }
 ],
 "metadata": {
  "kernelspec": {
   "display_name": "pyro",
   "language": "python",
   "name": "python3"
  },
  "language_info": {
   "codemirror_mode": {
    "name": "ipython",
    "version": 3
   },
   "file_extension": ".py",
   "mimetype": "text/x-python",
   "name": "python",
   "nbconvert_exporter": "python",
   "pygments_lexer": "ipython3",
   "version": "3.9.18"
  },
  "orig_nbformat": 4
 },
 "nbformat": 4,
 "nbformat_minor": 2
}
